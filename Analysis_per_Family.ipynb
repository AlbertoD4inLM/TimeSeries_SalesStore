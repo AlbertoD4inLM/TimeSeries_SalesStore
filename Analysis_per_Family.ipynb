{
 "cells": [
  {
   "cell_type": "markdown",
   "id": "5d741179",
   "metadata": {},
   "source": [
    "# PER_FAMILY"
   ]
  },
  {
   "cell_type": "code",
   "execution_count": null,
   "id": "cda231ff",
   "metadata": {},
   "outputs": [],
   "source": [
    "#Import libraries\n",
    "import pandas as pd\n",
    "import numpy as np\n",
    "import matplotlib.pyplot as plt\n",
    "import seaborn as sns"
   ]
  },
  {
   "cell_type": "code",
   "execution_count": 36,
   "id": "22c942bf",
   "metadata": {},
   "outputs": [],
   "source": [
    "# Import dataset\n",
    "location_holidays = \"C:\\\\Users\\\\75558\\\\OneDrive - Bain\\\\Documents\\\\KAGGLE\\\\Sales project\\\\holidays_events.csv\"\n",
    "holidays = pd.read_csv(location_holidays, parse_dates=['date'])\n",
    "location_oil = \"C:\\\\Users\\\\75558\\\\OneDrive - Bain\\\\Documents\\\\KAGGLE\\\\Sales project\\\\oil.csv\"\n",
    "oil = pd.read_csv(location_oil, parse_dates=['date'])\n",
    "location_stores = \"C:\\\\Users\\\\75558\\\\OneDrive - Bain\\\\Documents\\\\KAGGLE\\\\Sales project\\\\stores.csv\"\n",
    "stores = pd.read_csv(location_stores)\n",
    "location_transactions = \"C:\\\\Users\\\\75558\\\\OneDrive - Bain\\\\Documents\\\\KAGGLE\\\\Sales project\\\\transactions.csv\"\n",
    "transactions = pd.read_csv(location_transactions, parse_dates=['date'])\n",
    "location_train = \"C:\\\\Users\\\\75558\\\\OneDrive - Bain\\\\Documents\\\\KAGGLE\\\\Sales project\\\\train.csv\"\n",
    "train = pd.read_csv(location_train, parse_dates=['date'])\n",
    "location_test = \"C:\\\\Users\\\\75558\\\\OneDrive - Bain\\\\Documents\\\\KAGGLE\\\\Sales project\\\\test.csv\"\n",
    "test = pd.read_csv(location_test, parse_dates=['date'])"
   ]
  },
  {
   "cell_type": "code",
   "execution_count": 37,
   "id": "53be9dc4",
   "metadata": {},
   "outputs": [],
   "source": [
    "df=train.copy()"
   ]
  },
  {
   "cell_type": "code",
   "execution_count": 38,
   "id": "51898d24",
   "metadata": {},
   "outputs": [],
   "source": [
    "#Divide df into train and validation\n",
    "train_size = int(len(df)*0.8)\n",
    "df_80, df_20 = df[:train_size], df[train_size:]"
   ]
  },
  {
   "cell_type": "code",
   "execution_count": 39,
   "id": "4e5642eb",
   "metadata": {},
   "outputs": [
    {
     "name": "stdout",
     "output_type": "stream",
     "text": [
      "            date      family  sales\n",
      "0     2013-01-01  AUTOMOTIVE    0.0\n",
      "33    2013-01-02  AUTOMOTIVE  255.0\n",
      "66    2013-01-03  AUTOMOTIVE  161.0\n",
      "99    2013-01-04  AUTOMOTIVE  169.0\n",
      "132   2013-01-05  AUTOMOTIVE  342.0\n",
      "...          ...         ...    ...\n",
      "44319 2016-09-08  AUTOMOTIVE  263.0\n",
      "44352 2016-09-09  AUTOMOTIVE  280.0\n",
      "44385 2016-09-10  AUTOMOTIVE  371.0\n",
      "44418 2016-09-11  AUTOMOTIVE  431.0\n",
      "44451 2016-09-12  AUTOMOTIVE   34.0\n",
      "\n",
      "[1348 rows x 3 columns]\n"
     ]
    }
   ],
   "source": [
    "#Define df_80_family\n",
    "df_80_family = df_80.groupby(['date', 'family']).agg({'sales':'sum'}).reset_index()\n",
    "#Define df_20_family\n",
    "df_20_family = df_20.groupby(['date', 'family']).agg({'sales':'sum'}).reset_index()\n",
    "#Print family = 'AUTOMOTIVE'\n",
    "print(df_80_family[df_80_family['family']=='AUTOMOTIVE'])"
   ]
  },
  {
   "cell_type": "code",
   "execution_count": 42,
   "id": "109c90bf",
   "metadata": {},
   "outputs": [],
   "source": [
    "#Drop family = 'BOOKS'\n",
    "df_80_family = df_80_family.drop(df_80_family[df_80_family['family']=='BOOKS'].index)\n",
    "#Drop first rows with 0 sales per family \n",
    "for family in df_80_family['family'].unique():\n",
    "    while df_80_family[(df_80_family['family']==family)].iloc[0]['sales'] == 0:\n",
    "        df_80_family = df_80_family.drop(df_80_family[(df_80_family['family']==family)].index[0])\n"
   ]
  },
  {
   "cell_type": "code",
   "execution_count": 46,
   "id": "db3c47a9",
   "metadata": {},
   "outputs": [
    {
     "name": "stdout",
     "output_type": "stream",
     "text": [
      "AUTOMOTIVE 1347\n",
      "HARDWARE 1347\n",
      "HOME APPLIANCES 1347\n",
      "SEAFOOD 1347\n",
      "PRODUCE 1274\n",
      "CELEBRATION 984\n",
      "HOME AND KITCHEN I 984\n",
      "HOME AND KITCHEN II 984\n",
      "HOME CARE 984\n",
      "MAGAZINES 984\n",
      "PET SUPPLIES 984\n",
      "PLAYERS AND ELECTRONICS 984\n",
      "LADIESWEAR 983\n",
      "SCHOOL AND OFFICE SUPPLIES 983\n",
      "BABY CARE 925\n"
     ]
    }
   ],
   "source": [
    "#Print size of each family in df_80_family where size < 1348\n",
    "for family in df_80_family['family'].unique():\n",
    "    size = df_80_family[df_80_family['family']==family]['date'].size\n",
    "    if size < 1348:\n",
    "        print(family, size)"
   ]
  },
  {
   "cell_type": "code",
   "execution_count": null,
   "id": "0e4fe84f",
   "metadata": {},
   "outputs": [
    {
     "name": "stdout",
     "output_type": "stream",
     "text": [
      "337\n"
     ]
    }
   ],
   "source": [
    "print(df_20_family[df_20_family['family']=='AUTOMOTIVE']['date'].size)"
   ]
  },
  {
   "cell_type": "markdown",
   "id": "87b5dee9",
   "metadata": {},
   "source": [
    "## PROPHET"
   ]
  },
  {
   "cell_type": "code",
   "execution_count": 43,
   "id": "bc80b9cd",
   "metadata": {},
   "outputs": [
    {
     "name": "stderr",
     "output_type": "stream",
     "text": [
      "13:18:08 - cmdstanpy - INFO - Chain [1] start processing\n",
      "13:18:08 - cmdstanpy - INFO - Chain [1] done processing\n"
     ]
    },
    {
     "name": "stdout",
     "output_type": "stream",
     "text": [
      "Family: BEAUTY, RMSE: 87.6724903432936\n"
     ]
    },
    {
     "name": "stderr",
     "output_type": "stream",
     "text": [
      "13:18:08 - cmdstanpy - INFO - Chain [1] start processing\n",
      "13:18:09 - cmdstanpy - INFO - Chain [1] done processing\n",
      "13:18:09 - cmdstanpy - INFO - Chain [1] start processing\n"
     ]
    },
    {
     "name": "stdout",
     "output_type": "stream",
     "text": [
      "Family: BEVERAGES, RMSE: 40058.065199947305\n"
     ]
    },
    {
     "name": "stderr",
     "output_type": "stream",
     "text": [
      "13:18:09 - cmdstanpy - INFO - Chain [1] done processing\n"
     ]
    },
    {
     "name": "stdout",
     "output_type": "stream",
     "text": [
      "Family: BREAD/BAKERY, RMSE: 3822.8739230265787\n"
     ]
    },
    {
     "name": "stderr",
     "output_type": "stream",
     "text": [
      "13:18:10 - cmdstanpy - INFO - Chain [1] start processing\n",
      "13:18:10 - cmdstanpy - INFO - Chain [1] done processing\n"
     ]
    },
    {
     "name": "stdout",
     "output_type": "stream",
     "text": [
      "Family: CLEANING, RMSE: 13841.070822503367\n"
     ]
    },
    {
     "name": "stderr",
     "output_type": "stream",
     "text": [
      "13:18:11 - cmdstanpy - INFO - Chain [1] start processing\n",
      "13:18:11 - cmdstanpy - INFO - Chain [1] done processing\n"
     ]
    },
    {
     "name": "stdout",
     "output_type": "stream",
     "text": [
      "Family: DAIRY, RMSE: 7256.443966967441\n"
     ]
    },
    {
     "name": "stderr",
     "output_type": "stream",
     "text": [
      "13:18:11 - cmdstanpy - INFO - Chain [1] start processing\n",
      "13:18:12 - cmdstanpy - INFO - Chain [1] done processing\n"
     ]
    },
    {
     "name": "stdout",
     "output_type": "stream",
     "text": [
      "Family: DELI, RMSE: 4035.1154095750067\n"
     ]
    },
    {
     "name": "stderr",
     "output_type": "stream",
     "text": [
      "13:18:13 - cmdstanpy - INFO - Chain [1] start processing\n",
      "13:18:13 - cmdstanpy - INFO - Chain [1] done processing\n"
     ]
    },
    {
     "name": "stdout",
     "output_type": "stream",
     "text": [
      "Family: EGGS, RMSE: 2557.2292000183675\n"
     ]
    },
    {
     "name": "stderr",
     "output_type": "stream",
     "text": [
      "13:18:14 - cmdstanpy - INFO - Chain [1] start processing\n",
      "13:18:14 - cmdstanpy - INFO - Chain [1] done processing\n"
     ]
    },
    {
     "name": "stdout",
     "output_type": "stream",
     "text": [
      "Family: FROZEN FOODS, RMSE: 7293.198585335401\n"
     ]
    },
    {
     "name": "stderr",
     "output_type": "stream",
     "text": [
      "13:18:15 - cmdstanpy - INFO - Chain [1] start processing\n",
      "13:18:15 - cmdstanpy - INFO - Chain [1] done processing\n"
     ]
    },
    {
     "name": "stdout",
     "output_type": "stream",
     "text": [
      "Family: GROCERY I, RMSE: 41097.70611430976\n"
     ]
    },
    {
     "name": "stderr",
     "output_type": "stream",
     "text": [
      "13:18:16 - cmdstanpy - INFO - Chain [1] start processing\n",
      "13:18:16 - cmdstanpy - INFO - Chain [1] done processing\n"
     ]
    },
    {
     "name": "stdout",
     "output_type": "stream",
     "text": [
      "Family: GROCERY II, RMSE: 699.0645285141242\n"
     ]
    },
    {
     "name": "stderr",
     "output_type": "stream",
     "text": [
      "13:18:17 - cmdstanpy - INFO - Chain [1] start processing\n",
      "13:18:17 - cmdstanpy - INFO - Chain [1] done processing\n"
     ]
    },
    {
     "name": "stdout",
     "output_type": "stream",
     "text": [
      "Family: LAWN AND GARDEN, RMSE: 710.8117336614894\n"
     ]
    },
    {
     "name": "stderr",
     "output_type": "stream",
     "text": [
      "13:18:18 - cmdstanpy - INFO - Chain [1] start processing\n",
      "13:18:18 - cmdstanpy - INFO - Chain [1] done processing\n"
     ]
    },
    {
     "name": "stdout",
     "output_type": "stream",
     "text": [
      "Family: LINGERIE, RMSE: 211.71930643407336\n"
     ]
    },
    {
     "name": "stderr",
     "output_type": "stream",
     "text": [
      "13:18:19 - cmdstanpy - INFO - Chain [1] start processing\n",
      "13:18:19 - cmdstanpy - INFO - Chain [1] done processing\n"
     ]
    },
    {
     "name": "stdout",
     "output_type": "stream",
     "text": [
      "Family: LIQUOR,WINE,BEER, RMSE: 2450.1959428564464\n"
     ]
    },
    {
     "name": "stderr",
     "output_type": "stream",
     "text": [
      "13:18:20 - cmdstanpy - INFO - Chain [1] start processing\n",
      "13:18:20 - cmdstanpy - INFO - Chain [1] done processing\n"
     ]
    },
    {
     "name": "stdout",
     "output_type": "stream",
     "text": [
      "Family: MEATS, RMSE: 5777.60880792703\n"
     ]
    },
    {
     "name": "stderr",
     "output_type": "stream",
     "text": [
      "13:18:21 - cmdstanpy - INFO - Chain [1] start processing\n",
      "13:18:21 - cmdstanpy - INFO - Chain [1] done processing\n"
     ]
    },
    {
     "name": "stdout",
     "output_type": "stream",
     "text": [
      "Family: PERSONAL CARE, RMSE: 3679.970465389557\n"
     ]
    },
    {
     "name": "stderr",
     "output_type": "stream",
     "text": [
      "13:18:22 - cmdstanpy - INFO - Chain [1] start processing\n",
      "13:18:22 - cmdstanpy - INFO - Chain [1] done processing\n"
     ]
    },
    {
     "name": "stdout",
     "output_type": "stream",
     "text": [
      "Family: POULTRY, RMSE: 3882.5765669318625\n"
     ]
    },
    {
     "name": "stderr",
     "output_type": "stream",
     "text": [
      "13:18:23 - cmdstanpy - INFO - Chain [1] start processing\n",
      "13:18:24 - cmdstanpy - INFO - Chain [1] done processing\n"
     ]
    },
    {
     "name": "stdout",
     "output_type": "stream",
     "text": [
      "Family: PREPARED FOODS, RMSE: 802.3218679105693\n"
     ]
    },
    {
     "name": "stderr",
     "output_type": "stream",
     "text": [
      "13:18:25 - cmdstanpy - INFO - Chain [1] start processing\n",
      "13:18:26 - cmdstanpy - INFO - Chain [1] done processing\n"
     ]
    },
    {
     "name": "stdout",
     "output_type": "stream",
     "text": [
      "Family: AUTOMOTIVE, RMSE: 86.15361841058608\n"
     ]
    },
    {
     "name": "stderr",
     "output_type": "stream",
     "text": [
      "13:18:27 - cmdstanpy - INFO - Chain [1] start processing\n",
      "13:18:27 - cmdstanpy - INFO - Chain [1] done processing\n"
     ]
    },
    {
     "name": "stdout",
     "output_type": "stream",
     "text": [
      "Family: HARDWARE, RMSE: 18.468250473658276\n"
     ]
    },
    {
     "name": "stderr",
     "output_type": "stream",
     "text": [
      "13:18:28 - cmdstanpy - INFO - Chain [1] start processing\n",
      "13:18:29 - cmdstanpy - INFO - Chain [1] done processing\n"
     ]
    },
    {
     "name": "stdout",
     "output_type": "stream",
     "text": [
      "Family: HOME APPLIANCES, RMSE: 14.631838144244261\n"
     ]
    },
    {
     "name": "stderr",
     "output_type": "stream",
     "text": [
      "13:18:30 - cmdstanpy - INFO - Chain [1] start processing\n",
      "13:18:30 - cmdstanpy - INFO - Chain [1] done processing\n"
     ]
    },
    {
     "name": "stdout",
     "output_type": "stream",
     "text": [
      "Family: SEAFOOD, RMSE: 207.0073472501779\n"
     ]
    },
    {
     "name": "stderr",
     "output_type": "stream",
     "text": [
      "13:18:32 - cmdstanpy - INFO - Chain [1] start processing\n",
      "13:18:33 - cmdstanpy - INFO - Chain [1] done processing\n"
     ]
    },
    {
     "name": "stdout",
     "output_type": "stream",
     "text": [
      "Family: PRODUCE, RMSE: 43257.83873919852\n"
     ]
    },
    {
     "name": "stderr",
     "output_type": "stream",
     "text": [
      "13:18:34 - cmdstanpy - INFO - Chain [1] start processing\n",
      "13:18:34 - cmdstanpy - INFO - Chain [1] done processing\n"
     ]
    },
    {
     "name": "stdout",
     "output_type": "stream",
     "text": [
      "Family: CELEBRATION, RMSE: 378.84101542889584\n"
     ]
    },
    {
     "name": "stderr",
     "output_type": "stream",
     "text": [
      "13:18:36 - cmdstanpy - INFO - Chain [1] start processing\n",
      "13:18:36 - cmdstanpy - INFO - Chain [1] done processing\n"
     ]
    },
    {
     "name": "stdout",
     "output_type": "stream",
     "text": [
      "Family: HOME AND KITCHEN I, RMSE: 671.6297185722519\n"
     ]
    },
    {
     "name": "stderr",
     "output_type": "stream",
     "text": [
      "13:18:37 - cmdstanpy - INFO - Chain [1] start processing\n",
      "13:18:37 - cmdstanpy - INFO - Chain [1] done processing\n"
     ]
    },
    {
     "name": "stdout",
     "output_type": "stream",
     "text": [
      "Family: HOME AND KITCHEN II, RMSE: 656.6866779104604\n"
     ]
    },
    {
     "name": "stderr",
     "output_type": "stream",
     "text": [
      "13:18:38 - cmdstanpy - INFO - Chain [1] start processing\n",
      "13:18:39 - cmdstanpy - INFO - Chain [1] done processing\n"
     ]
    },
    {
     "name": "stdout",
     "output_type": "stream",
     "text": [
      "Family: HOME CARE, RMSE: 5769.671062838912\n"
     ]
    },
    {
     "name": "stderr",
     "output_type": "stream",
     "text": [
      "13:18:40 - cmdstanpy - INFO - Chain [1] start processing\n",
      "13:18:40 - cmdstanpy - INFO - Chain [1] done processing\n"
     ]
    },
    {
     "name": "stdout",
     "output_type": "stream",
     "text": [
      "Family: MAGAZINES, RMSE: 133.13376302089097\n"
     ]
    },
    {
     "name": "stderr",
     "output_type": "stream",
     "text": [
      "13:18:41 - cmdstanpy - INFO - Chain [1] start processing\n",
      "13:18:41 - cmdstanpy - INFO - Chain [1] done processing\n"
     ]
    },
    {
     "name": "stdout",
     "output_type": "stream",
     "text": [
      "Family: PET SUPPLIES, RMSE: 127.74282312774936\n"
     ]
    },
    {
     "name": "stderr",
     "output_type": "stream",
     "text": [
      "13:18:42 - cmdstanpy - INFO - Chain [1] start processing\n",
      "13:18:43 - cmdstanpy - INFO - Chain [1] done processing\n"
     ]
    },
    {
     "name": "stdout",
     "output_type": "stream",
     "text": [
      "Family: PLAYERS AND ELECTRONICS, RMSE: 375.3299655285101\n"
     ]
    },
    {
     "name": "stderr",
     "output_type": "stream",
     "text": [
      "13:18:43 - cmdstanpy - INFO - Chain [1] start processing\n",
      "13:18:44 - cmdstanpy - INFO - Chain [1] done processing\n"
     ]
    },
    {
     "name": "stdout",
     "output_type": "stream",
     "text": [
      "Family: LADIESWEAR, RMSE: 295.9691620180531\n"
     ]
    },
    {
     "name": "stderr",
     "output_type": "stream",
     "text": [
      "13:18:44 - cmdstanpy - INFO - Chain [1] start processing\n",
      "13:18:45 - cmdstanpy - INFO - Chain [1] done processing\n"
     ]
    },
    {
     "name": "stdout",
     "output_type": "stream",
     "text": [
      "Family: SCHOOL AND OFFICE SUPPLIES, RMSE: 706.7533105900417\n"
     ]
    },
    {
     "name": "stderr",
     "output_type": "stream",
     "text": [
      "13:18:45 - cmdstanpy - INFO - Chain [1] start processing\n",
      "13:18:45 - cmdstanpy - INFO - Chain [1] done processing\n"
     ]
    },
    {
     "name": "stdout",
     "output_type": "stream",
     "text": [
      "Family: BABY CARE, RMSE: 7.180254451382197\n"
     ]
    }
   ],
   "source": [
    "from prophet import Prophet\n",
    "for family in df_80_family['family'].unique():\n",
    "    df_family = df_80_family[df_80_family['family'] == family][['date', 'sales']].rename(columns={'date': 'ds', 'sales': 'y'})\n",
    "    model = Prophet()\n",
    "    model.fit(df_family)\n",
    "    future = model.make_future_dataframe(periods=337)  # Forecasting df_20 size\n",
    "    forecast = model.predict(future)\n",
    "    \n",
    "    #Calculate RMSE\n",
    "    df_forecast = forecast[['ds', 'yhat']].set_index('ds').join(df_20_family[df_20_family['family'] == family][['date', 'sales']].set_index('date'))\n",
    "    rmse = np.sqrt(np.mean((df_forecast['yhat'] - df_forecast['sales'])**2))\n",
    "    print(f'Family: {family}, RMSE: {rmse}')\n",
    "\n",
    "    # Plot the forecast\n",
    "    '''fig = model.plot(forecast)\n",
    "    plt.title(f'Forecast for {family}')\n",
    "    plt.show()'''"
   ]
  },
  {
   "cell_type": "markdown",
   "id": "cdd78292",
   "metadata": {},
   "source": [
    "## XGBREGRESSOR"
   ]
  },
  {
   "cell_type": "code",
   "execution_count": 27,
   "id": "63f6df24",
   "metadata": {},
   "outputs": [
    {
     "name": "stdout",
     "output_type": "stream",
     "text": [
      "Family: AUTOMOTIVE, RMSE: 120.45232045217439\n",
      "Family: BABY CARE, RMSE: 9.740368757121296\n",
      "Family: BEAUTY, RMSE: 118.32682986808001\n",
      "Family: BEVERAGES, RMSE: 58294.828418954276\n",
      "Family: BOOKS, RMSE: 30.2159389620619\n",
      "Family: BREAD/BAKERY, RMSE: 6832.135523142801\n",
      "Family: CELEBRATION, RMSE: 265.16345970058376\n",
      "Family: CLEANING, RMSE: 17071.667566991928\n",
      "Family: DAIRY, RMSE: 12859.688166306927\n",
      "Family: DELI, RMSE: 4393.940249874982\n",
      "Family: EGGS, RMSE: 2833.945050466571\n",
      "Family: FROZEN FOODS, RMSE: 17875.17603401565\n",
      "Family: GROCERY I, RMSE: 71431.87185759058\n",
      "Family: GROCERY II, RMSE: 550.0281977832957\n",
      "Family: HARDWARE, RMSE: 24.456356842360638\n",
      "Family: HOME AND KITCHEN I, RMSE: 755.77640578085\n",
      "Family: HOME AND KITCHEN II, RMSE: 696.4622587136969\n",
      "Family: HOME APPLIANCES, RMSE: 21.062728303764512\n",
      "Family: HOME CARE, RMSE: 4895.877894024594\n",
      "Family: LADIESWEAR, RMSE: 319.0402375064701\n",
      "Family: LAWN AND GARDEN, RMSE: 739.1570211533772\n",
      "Family: LINGERIE, RMSE: 135.1637674098342\n",
      "Family: LIQUOR,WINE,BEER, RMSE: 3854.8954430500235\n",
      "Family: MAGAZINES, RMSE: 156.76388488068477\n",
      "Family: MEATS, RMSE: 7402.141889385907\n",
      "Family: PERSONAL CARE, RMSE: 5713.991196597788\n",
      "Family: PET SUPPLIES, RMSE: 176.13867040774778\n",
      "Family: PLAYERS AND ELECTRONICS, RMSE: 256.8937864142713\n",
      "Family: POULTRY, RMSE: 6448.097606093663\n",
      "Family: PREPARED FOODS, RMSE: 1178.092583029694\n",
      "Family: PRODUCE, RMSE: 36409.31362579975\n",
      "Family: SCHOOL AND OFFICE SUPPLIES, RMSE: 532.6840059940138\n",
      "Family: SEAFOOD, RMSE: 380.1300541980226\n"
     ]
    }
   ],
   "source": [
    "#Train XGBRegressor model for each family\n",
    "from xgboost import XGBRegressor\n",
    "from sklearn.metrics import mean_squared_error\n",
    "for family in df_80_family['family'].unique():\n",
    "    df_family = df_80_family[df_80_family['family'] == family][['date', 'sales']]\n",
    "    df_family['month'] = df_family['date'].dt.month\n",
    "    df_family['day'] = df_family['date'].dt.day\n",
    "    df_family['year'] = df_family['date'].dt.year\n",
    "    #Lag Features\n",
    "    for lag in [1, 7, 14, 30]:\n",
    "        df_family[f'lag_{lag}'] = df_family['sales'].shift(lag)\n",
    "    df_family = df_family.dropna()\n",
    "\n",
    "    #Define X and y\n",
    "    X = df_family[['month', 'day', 'year', 'lag_1', 'lag_7', 'lag_14', 'lag_30']]\n",
    "    y = df_family['sales']\n",
    "    \n",
    "    #Train model\n",
    "    model = XGBRegressor(objective='reg:squarederror', n_estimators=1000)\n",
    "    model.fit(X, y)\n",
    "    \n",
    "    #Predict on df_20_family\n",
    "    df_family_20 = df_20_family[df_20_family['family'] == family][['date', 'sales']]\n",
    "    df_family_20['month'] = df_family_20['date'].dt.month\n",
    "    df_family_20['day'] = df_family_20['date'].dt.day\n",
    "    df_family_20['year'] = df_family_20['date'].dt.year\n",
    "    for lag in [1, 7, 14, 30]:\n",
    "        df_family_20[f'lag_{lag}'] = df_family['sales'].shift(lag).iloc[-len(df_family_20):].values\n",
    "    df_family_20 = df_family_20.dropna()\n",
    "    X_20 = df_family_20[['month', 'day', 'year', 'lag_1', 'lag_7', 'lag_14', 'lag_30']]\n",
    "    y_20 = df_family_20['sales']\n",
    "    y_pred = model.predict(X_20)\n",
    "    rmse = np.sqrt(mean_squared_error(y_20, y_pred))\n",
    "    print(f'Family: {family}, RMSE: {rmse}')\n",
    "    \n",
    "    \n"
   ]
  },
  {
   "cell_type": "markdown",
   "id": "6bd521ed",
   "metadata": {},
   "source": [
    "## RNN"
   ]
  },
  {
   "cell_type": "code",
   "execution_count": null,
   "id": "08ad9015",
   "metadata": {},
   "outputs": [],
   "source": []
  }
 ],
 "metadata": {
  "kernelspec": {
   "display_name": "Python 3",
   "language": "python",
   "name": "python3"
  },
  "language_info": {
   "codemirror_mode": {
    "name": "ipython",
    "version": 3
   },
   "file_extension": ".py",
   "mimetype": "text/x-python",
   "name": "python",
   "nbconvert_exporter": "python",
   "pygments_lexer": "ipython3",
   "version": "3.11.9"
  }
 },
 "nbformat": 4,
 "nbformat_minor": 5
}
