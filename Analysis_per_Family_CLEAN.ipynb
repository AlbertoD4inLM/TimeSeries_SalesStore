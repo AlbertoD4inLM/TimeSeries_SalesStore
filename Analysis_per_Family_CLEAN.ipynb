{
 "cells": [
  {
   "cell_type": "code",
   "execution_count": 1,
   "id": "d77827c6",
   "metadata": {},
   "outputs": [],
   "source": [
    "#Import libraries\n",
    "import pandas as pd\n",
    "import numpy as np\n",
    "import matplotlib.pyplot as plt\n",
    "import seaborn as sns"
   ]
  },
  {
   "cell_type": "code",
   "execution_count": 2,
   "id": "47e73465",
   "metadata": {},
   "outputs": [],
   "source": [
    "# Import dataset\n",
    "location_holidays = \"C:\\\\Users\\\\75558\\\\OneDrive - Bain\\\\Documents\\\\KAGGLE\\\\Sales project\\\\holidays_events.csv\"\n",
    "holidays = pd.read_csv(location_holidays, parse_dates=['date'])\n",
    "location_oil = \"C:\\\\Users\\\\75558\\\\OneDrive - Bain\\\\Documents\\\\KAGGLE\\\\Sales project\\\\oil.csv\"\n",
    "oil = pd.read_csv(location_oil, parse_dates=['date'])\n",
    "location_stores = \"C:\\\\Users\\\\75558\\\\OneDrive - Bain\\\\Documents\\\\KAGGLE\\\\Sales project\\\\stores.csv\"\n",
    "stores = pd.read_csv(location_stores)\n",
    "location_transactions = \"C:\\\\Users\\\\75558\\\\OneDrive - Bain\\\\Documents\\\\KAGGLE\\\\Sales project\\\\transactions.csv\"\n",
    "transactions = pd.read_csv(location_transactions, parse_dates=['date'])\n",
    "location_train = \"C:\\\\Users\\\\75558\\\\OneDrive - Bain\\\\Documents\\\\KAGGLE\\\\Sales project\\\\train.csv\"\n",
    "train = pd.read_csv(location_train, parse_dates=['date'])\n",
    "location_test = \"C:\\\\Users\\\\75558\\\\OneDrive - Bain\\\\Documents\\\\KAGGLE\\\\Sales project\\\\test.csv\"\n",
    "test = pd.read_csv(location_test, parse_dates=['date'])"
   ]
  },
  {
   "cell_type": "code",
   "execution_count": 4,
   "id": "071ace28",
   "metadata": {},
   "outputs": [],
   "source": [
    "# THIS IS A TEST OF GITHUB CHANGES"
   ]
  },
  {
   "cell_type": "code",
   "execution_count": 1,
   "id": "f9028b9f",
   "metadata": {},
   "outputs": [],
   "source": [
    "# THIS IS A SECOND TEST OF GITHUB PERSONAL COMPUTER"
   ]
  },
  {
   "cell_type": "code",
   "execution_count": 2,
   "id": "d86f6763",
   "metadata": {},
   "outputs": [
    {
     "name": "stdout",
     "output_type": "stream",
     "text": [
      "Hello world\n"
     ]
    }
   ],
   "source": [
    "print(\"Hello world\")"
   ]
  }
 ],
 "metadata": {
  "kernelspec": {
   "display_name": "Python 3",
   "language": "python",
   "name": "python3"
  },
  "language_info": {
   "codemirror_mode": {
    "name": "ipython",
    "version": 3
   },
   "file_extension": ".py",
   "mimetype": "text/x-python",
   "name": "python",
   "nbconvert_exporter": "python",
   "pygments_lexer": "ipython3",
   "version": "3.11.9"
  }
 },
 "nbformat": 4,
 "nbformat_minor": 5
}
