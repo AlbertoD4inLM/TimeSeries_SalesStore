{
 "cells": [
  {
   "cell_type": "code",
   "execution_count": null,
   "id": "d77827c6",
   "metadata": {},
   "outputs": [],
   "source": [
    "#Import libraries\n",
    "import pandas as pd\n",
    "import numpy as np\n",
    "import matplotlib.pyplot as plt\n",
    "import seaborn as sns"
   ]
  },
  {
   "cell_type": "code",
   "execution_count": null,
   "id": "47e73465",
   "metadata": {},
   "outputs": [],
   "source": [
    "# Import dataset\n",
    "location_holidays = \"C:\\\\Users\\\\75558\\\\OneDrive - Bain\\\\Documents\\\\KAGGLE\\\\Sales project\\\\holidays_events.csv\"\n",
    "holidays = pd.read_csv(location_holidays, parse_dates=['date'])\n",
    "location_oil = \"C:\\\\Users\\\\75558\\\\OneDrive - Bain\\\\Documents\\\\KAGGLE\\\\Sales project\\\\oil.csv\"\n",
    "oil = pd.read_csv(location_oil, parse_dates=['date'])\n",
    "location_stores = \"C:\\\\Users\\\\75558\\\\OneDrive - Bain\\\\Documents\\\\KAGGLE\\\\Sales project\\\\stores.csv\"\n",
    "stores = pd.read_csv(location_stores)\n",
    "location_transactions = \"C:\\\\Users\\\\75558\\\\OneDrive - Bain\\\\Documents\\\\KAGGLE\\\\Sales project\\\\transactions.csv\"\n",
    "transactions = pd.read_csv(location_transactions, parse_dates=['date'])\n",
    "location_train = \"C:\\\\Users\\\\75558\\\\OneDrive - Bain\\\\Documents\\\\KAGGLE\\\\Sales project\\\\train.csv\"\n",
    "train = pd.read_csv(location_train, parse_dates=['date'])\n",
    "location_test = \"C:\\\\Users\\\\75558\\\\OneDrive - Bain\\\\Documents\\\\KAGGLE\\\\Sales project\\\\test.csv\"\n",
    "test = pd.read_csv(location_test, parse_dates=['date'])"
   ]
  },
  {
   "cell_type": "code",
   "execution_count": null,
   "id": "1dcb778f",
   "metadata": {},
   "outputs": [],
   "source": [
    "#Divide df into train and validation\n",
    "train_size = int(len(df)*0.8)\n",
    "df_80, df_20 = df[:train_size], df[train_size:]"
   ]
  },
  {
   "cell_type": "code",
   "execution_count": null,
   "id": "071ace28",
   "metadata": {},
   "outputs": [],
   "source": []
  }
 ],
 "metadata": {
  "language_info": {
   "name": "python"
  }
 },
 "nbformat": 4,
 "nbformat_minor": 5
}
